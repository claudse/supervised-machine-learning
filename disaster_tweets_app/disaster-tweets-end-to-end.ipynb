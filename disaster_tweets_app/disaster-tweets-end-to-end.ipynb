{
 "cells": [
  {
   "cell_type": "markdown",
   "id": "9f32c34a",
   "metadata": {},
   "source": [
    "# Disaster Tweet Prediction NLP"
   ]
  },
  {
   "cell_type": "code",
   "execution_count": 1,
   "id": "132cb6f9",
   "metadata": {},
   "outputs": [],
   "source": [
    "import numpy as np\n",
    "import pandas as pd\n",
    "import matplotlib.pyplot as plt\n",
    "\n",
    "from sklearn.model_selection import train_test_split\n",
    "from sklearn.feature_extraction.text import TfidfVectorizer\n",
    "from sklearn.naive_bayes import MultinomialNB\n",
    "from sklearn.linear_model import LogisticRegression\n",
    "from sklearn.svm import SVC\n",
    "from sklearn.pipeline import Pipeline\n",
    "from sklearn import model_selection\n",
    "from sklearn.metrics import f1_score\n",
    "from sklearn.metrics import classification_report\n",
    "\n",
    "import re\n",
    "\n",
    "%matplotlib inline"
   ]
  },
  {
   "cell_type": "markdown",
   "id": "464e7432",
   "metadata": {},
   "source": [
    "## Load the Disaster Tweets Dataset"
   ]
  },
  {
   "cell_type": "markdown",
   "id": "497f516c",
   "metadata": {},
   "source": [
    "We use the Disaster Tweets dataset from kaggle: <a href=\"https://www.kaggle.com/competitions/nlp-getting-started/data\">https://www.kaggle.com/competitions/nlp-getting-started/data</a>"
   ]
  },
  {
   "cell_type": "code",
   "execution_count": 2,
   "id": "994d201e",
   "metadata": {},
   "outputs": [
    {
     "data": {
      "text/html": [
       "<div>\n",
       "<style scoped>\n",
       "    .dataframe tbody tr th:only-of-type {\n",
       "        vertical-align: middle;\n",
       "    }\n",
       "\n",
       "    .dataframe tbody tr th {\n",
       "        vertical-align: top;\n",
       "    }\n",
       "\n",
       "    .dataframe thead th {\n",
       "        text-align: right;\n",
       "    }\n",
       "</style>\n",
       "<table border=\"1\" class=\"dataframe\">\n",
       "  <thead>\n",
       "    <tr style=\"text-align: right;\">\n",
       "      <th></th>\n",
       "      <th>id</th>\n",
       "      <th>keyword</th>\n",
       "      <th>location</th>\n",
       "      <th>text</th>\n",
       "      <th>target</th>\n",
       "    </tr>\n",
       "  </thead>\n",
       "  <tbody>\n",
       "    <tr>\n",
       "      <th>0</th>\n",
       "      <td>1</td>\n",
       "      <td>NaN</td>\n",
       "      <td>NaN</td>\n",
       "      <td>Our Deeds are the Reason of this #earthquake M...</td>\n",
       "      <td>1</td>\n",
       "    </tr>\n",
       "    <tr>\n",
       "      <th>1</th>\n",
       "      <td>4</td>\n",
       "      <td>NaN</td>\n",
       "      <td>NaN</td>\n",
       "      <td>Forest fire near La Ronge Sask. Canada</td>\n",
       "      <td>1</td>\n",
       "    </tr>\n",
       "    <tr>\n",
       "      <th>2</th>\n",
       "      <td>5</td>\n",
       "      <td>NaN</td>\n",
       "      <td>NaN</td>\n",
       "      <td>All residents asked to 'shelter in place' are ...</td>\n",
       "      <td>1</td>\n",
       "    </tr>\n",
       "    <tr>\n",
       "      <th>3</th>\n",
       "      <td>6</td>\n",
       "      <td>NaN</td>\n",
       "      <td>NaN</td>\n",
       "      <td>13,000 people receive #wildfires evacuation or...</td>\n",
       "      <td>1</td>\n",
       "    </tr>\n",
       "    <tr>\n",
       "      <th>4</th>\n",
       "      <td>7</td>\n",
       "      <td>NaN</td>\n",
       "      <td>NaN</td>\n",
       "      <td>Just got sent this photo from Ruby #Alaska as ...</td>\n",
       "      <td>1</td>\n",
       "    </tr>\n",
       "  </tbody>\n",
       "</table>\n",
       "</div>"
      ],
      "text/plain": [
       "   id keyword location                                               text  \\\n",
       "0   1     NaN      NaN  Our Deeds are the Reason of this #earthquake M...   \n",
       "1   4     NaN      NaN             Forest fire near La Ronge Sask. Canada   \n",
       "2   5     NaN      NaN  All residents asked to 'shelter in place' are ...   \n",
       "3   6     NaN      NaN  13,000 people receive #wildfires evacuation or...   \n",
       "4   7     NaN      NaN  Just got sent this photo from Ruby #Alaska as ...   \n",
       "\n",
       "   target  \n",
       "0       1  \n",
       "1       1  \n",
       "2       1  \n",
       "3       1  \n",
       "4       1  "
      ]
     },
     "execution_count": 2,
     "metadata": {},
     "output_type": "execute_result"
    }
   ],
   "source": [
    "df = pd.read_csv(\"./nlp-getting-started/train.csv\")\n",
    "df.head()"
   ]
  },
  {
   "cell_type": "markdown",
   "id": "d1567c08",
   "metadata": {},
   "source": [
    "## Prepare the Dataset"
   ]
  },
  {
   "cell_type": "code",
   "execution_count": 3,
   "id": "57b7231d",
   "metadata": {},
   "outputs": [
    {
     "data": {
      "text/html": [
       "<div>\n",
       "<style scoped>\n",
       "    .dataframe tbody tr th:only-of-type {\n",
       "        vertical-align: middle;\n",
       "    }\n",
       "\n",
       "    .dataframe tbody tr th {\n",
       "        vertical-align: top;\n",
       "    }\n",
       "\n",
       "    .dataframe thead th {\n",
       "        text-align: right;\n",
       "    }\n",
       "</style>\n",
       "<table border=\"1\" class=\"dataframe\">\n",
       "  <thead>\n",
       "    <tr style=\"text-align: right;\">\n",
       "      <th></th>\n",
       "      <th>text</th>\n",
       "      <th>target</th>\n",
       "    </tr>\n",
       "  </thead>\n",
       "  <tbody>\n",
       "    <tr>\n",
       "      <th>0</th>\n",
       "      <td>Our Deeds are the Reason of this #earthquake M...</td>\n",
       "      <td>1</td>\n",
       "    </tr>\n",
       "    <tr>\n",
       "      <th>1</th>\n",
       "      <td>Forest fire near La Ronge Sask. Canada</td>\n",
       "      <td>1</td>\n",
       "    </tr>\n",
       "    <tr>\n",
       "      <th>2</th>\n",
       "      <td>All residents asked to 'shelter in place' are ...</td>\n",
       "      <td>1</td>\n",
       "    </tr>\n",
       "    <tr>\n",
       "      <th>3</th>\n",
       "      <td>13,000 people receive #wildfires evacuation or...</td>\n",
       "      <td>1</td>\n",
       "    </tr>\n",
       "    <tr>\n",
       "      <th>4</th>\n",
       "      <td>Just got sent this photo from Ruby #Alaska as ...</td>\n",
       "      <td>1</td>\n",
       "    </tr>\n",
       "  </tbody>\n",
       "</table>\n",
       "</div>"
      ],
      "text/plain": [
       "                                                text  target\n",
       "0  Our Deeds are the Reason of this #earthquake M...       1\n",
       "1             Forest fire near La Ronge Sask. Canada       1\n",
       "2  All residents asked to 'shelter in place' are ...       1\n",
       "3  13,000 people receive #wildfires evacuation or...       1\n",
       "4  Just got sent this photo from Ruby #Alaska as ...       1"
      ]
     },
     "execution_count": 3,
     "metadata": {},
     "output_type": "execute_result"
    }
   ],
   "source": [
    "df = df.drop(['id','keyword','location'], axis=1)\n",
    "df.head()"
   ]
  },
  {
   "cell_type": "code",
   "execution_count": 4,
   "id": "2c1b22d2",
   "metadata": {},
   "outputs": [
    {
     "name": "stdout",
     "output_type": "stream",
     "text": [
      "<class 'pandas.core.frame.DataFrame'>\n",
      "RangeIndex: 7613 entries, 0 to 7612\n",
      "Data columns (total 2 columns):\n",
      " #   Column  Non-Null Count  Dtype \n",
      "---  ------  --------------  ----- \n",
      " 0   text    7613 non-null   object\n",
      " 1   target  7613 non-null   int64 \n",
      "dtypes: int64(1), object(1)\n",
      "memory usage: 119.1+ KB\n"
     ]
    }
   ],
   "source": [
    "df.info()"
   ]
  },
  {
   "cell_type": "code",
   "execution_count": 5,
   "id": "d63715af",
   "metadata": {},
   "outputs": [
    {
     "data": {
      "text/plain": [
       "text      0\n",
       "target    0\n",
       "dtype: int64"
      ]
     },
     "execution_count": 5,
     "metadata": {},
     "output_type": "execute_result"
    }
   ],
   "source": [
    "# Check if there are missing values\n",
    "df.isnull().sum()"
   ]
  },
  {
   "cell_type": "code",
   "execution_count": 6,
   "id": "ca13f110",
   "metadata": {},
   "outputs": [
    {
     "name": "stdout",
     "output_type": "stream",
     "text": [
      "Number of positive labels in the dataset (target=1):  3271\n",
      "Number of negative labels in the dataset (target=0):  4342\n"
     ]
    }
   ],
   "source": [
    "# Check the frequency of each class in the dataset\n",
    "print(\"Number of positive labels in the dataset (target=1): \", len(df[df.target==1]))\n",
    "print(\"Number of negative labels in the dataset (target=0): \", len(df[df.target==0]))"
   ]
  },
  {
   "cell_type": "code",
   "execution_count": 7,
   "id": "0a517bb4",
   "metadata": {},
   "outputs": [],
   "source": [
    "X = df['text']\n",
    "y = df['target']"
   ]
  },
  {
   "cell_type": "code",
   "execution_count": 8,
   "id": "401672ef",
   "metadata": {},
   "outputs": [
    {
     "data": {
      "text/plain": [
       "0       Our Deeds are the Reason of this #earthquake M...\n",
       "1                  Forest fire near La Ronge Sask. Canada\n",
       "2       All residents asked to 'shelter in place' are ...\n",
       "3       13,000 people receive #wildfires evacuation or...\n",
       "4       Just got sent this photo from Ruby #Alaska as ...\n",
       "                              ...                        \n",
       "7608    Two giant cranes holding a bridge collapse int...\n",
       "7609    @aria_ahrary @TheTawniest The out of control w...\n",
       "7610    M1.94 [01:04 UTC]?5km S of Volcano Hawaii. htt...\n",
       "7611    Police investigating after an e-bike collided ...\n",
       "7612    The Latest: More Homes Razed by Northern Calif...\n",
       "Name: text, Length: 7613, dtype: object"
      ]
     },
     "execution_count": 8,
     "metadata": {},
     "output_type": "execute_result"
    }
   ],
   "source": [
    "X"
   ]
  },
  {
   "cell_type": "code",
   "execution_count": 9,
   "id": "12b171ab",
   "metadata": {},
   "outputs": [
    {
     "data": {
      "text/plain": [
       "0       1\n",
       "1       1\n",
       "2       1\n",
       "3       1\n",
       "4       1\n",
       "       ..\n",
       "7608    1\n",
       "7609    1\n",
       "7610    1\n",
       "7611    1\n",
       "7612    1\n",
       "Name: target, Length: 7613, dtype: int64"
      ]
     },
     "execution_count": 9,
     "metadata": {},
     "output_type": "execute_result"
    }
   ],
   "source": [
    "y"
   ]
  },
  {
   "cell_type": "markdown",
   "id": "d18c6e7c",
   "metadata": {},
   "source": [
    "## Preprocess"
   ]
  },
  {
   "cell_type": "code",
   "execution_count": 10,
   "id": "bfedbad6",
   "metadata": {},
   "outputs": [],
   "source": [
    "def expand_contractions(text):\n",
    "    text = re.sub(r\"won\\'t\", \"will not\", text)\n",
    "    text = re.sub(r\"can\\'t\", \"can not\", text)\n",
    "    text = re.sub(r\"n\\'t\", \" not\", text)\n",
    "    text = re.sub(r\"\\'s\", \" is\", text)\n",
    "    text = re.sub(r\"\\'ll\", \" will\", text)\n",
    "    text = re.sub(r\"\\'t\", \" not\", text)\n",
    "    text = re.sub(r\"\\'ve\", \" have\", text)\n",
    "    text = re.sub(r\"\\'m\", \" am\", text)\n",
    "    return text"
   ]
  },
  {
   "cell_type": "code",
   "execution_count": 11,
   "id": "dc4f5156",
   "metadata": {},
   "outputs": [],
   "source": [
    "def clean_text(df):\n",
    "    \n",
    "    len_df = df.shape[0]\n",
    "    \n",
    "    for i in range(len_df):\n",
    "        \n",
    "        # lowercase letters\n",
    "        df[i] = df[i].lower()\n",
    "        \n",
    "        # expand contractions\n",
    "        df[i] = expand_contractions(df[i])\n",
    "        \n",
    "        # eliminate links\n",
    "        df[i] = re.sub(r'http\\S+', ' ', df[i])\n",
    "        \n",
    "        # eliminate special characters\n",
    "        df[i] = re.sub(r'[^a-z]+',' ', df[i])\n",
    "        \n",
    "    return df"
   ]
  },
  {
   "cell_type": "code",
   "execution_count": 12,
   "id": "93c463ae",
   "metadata": {},
   "outputs": [
    {
     "name": "stderr",
     "output_type": "stream",
     "text": [
      "/var/folders/jm/jl5x07fs2tjdxl39pr641p5c0000gn/T/ipykernel_2401/794359698.py:8: SettingWithCopyWarning: \n",
      "A value is trying to be set on a copy of a slice from a DataFrame\n",
      "\n",
      "See the caveats in the documentation: https://pandas.pydata.org/pandas-docs/stable/user_guide/indexing.html#returning-a-view-versus-a-copy\n",
      "  df[i] = df[i].lower()\n",
      "/var/folders/jm/jl5x07fs2tjdxl39pr641p5c0000gn/T/ipykernel_2401/794359698.py:11: SettingWithCopyWarning: \n",
      "A value is trying to be set on a copy of a slice from a DataFrame\n",
      "\n",
      "See the caveats in the documentation: https://pandas.pydata.org/pandas-docs/stable/user_guide/indexing.html#returning-a-view-versus-a-copy\n",
      "  df[i] = expand_contractions(df[i])\n",
      "/var/folders/jm/jl5x07fs2tjdxl39pr641p5c0000gn/T/ipykernel_2401/794359698.py:14: SettingWithCopyWarning: \n",
      "A value is trying to be set on a copy of a slice from a DataFrame\n",
      "\n",
      "See the caveats in the documentation: https://pandas.pydata.org/pandas-docs/stable/user_guide/indexing.html#returning-a-view-versus-a-copy\n",
      "  df[i] = re.sub(r'http\\S+', ' ', df[i])\n",
      "/var/folders/jm/jl5x07fs2tjdxl39pr641p5c0000gn/T/ipykernel_2401/794359698.py:17: SettingWithCopyWarning: \n",
      "A value is trying to be set on a copy of a slice from a DataFrame\n",
      "\n",
      "See the caveats in the documentation: https://pandas.pydata.org/pandas-docs/stable/user_guide/indexing.html#returning-a-view-versus-a-copy\n",
      "  df[i] = re.sub(r'[^a-z]+',' ', df[i])\n"
     ]
    },
    {
     "data": {
      "text/plain": [
       "0       our deeds are the reason of this earthquake ma...\n",
       "1                   forest fire near la ronge sask canada\n",
       "2       all residents asked to ishelter in place are b...\n",
       "3        people receive wildfires evacuation orders in...\n",
       "4       just got sent this photo from ruby alaska as s...\n",
       "                              ...                        \n",
       "7608    two giant cranes holding a bridge collapse int...\n",
       "7609     aria ahrary thetawniest the out of control wi...\n",
       "7610                        m utc km s of volcano hawaii \n",
       "7611    police investigating after an e bike collided ...\n",
       "7612    the latest more homes razed by northern califo...\n",
       "Name: text, Length: 7613, dtype: object"
      ]
     },
     "execution_count": 12,
     "metadata": {},
     "output_type": "execute_result"
    }
   ],
   "source": [
    "X = clean_text(X)\n",
    "X"
   ]
  },
  {
   "cell_type": "markdown",
   "id": "9f7d061d",
   "metadata": {},
   "source": [
    "## Pipeline Building"
   ]
  },
  {
   "cell_type": "code",
   "execution_count": 13,
   "id": "ebe4293a",
   "metadata": {},
   "outputs": [],
   "source": [
    "X_train, X_test, y_train, y_test = train_test_split(X, y, test_size=0.2)"
   ]
  },
  {
   "cell_type": "markdown",
   "id": "a275df82",
   "metadata": {},
   "source": [
    "## 1. Multinomial Naive Bayes Classifier"
   ]
  },
  {
   "cell_type": "code",
   "execution_count": 14,
   "id": "e053007a",
   "metadata": {},
   "outputs": [
    {
     "name": "stdout",
     "output_type": "stream",
     "text": [
      "Accuracy Multinomial Naive Bayes:  0.7859487852921865\n",
      "F1 Score Multinomial Naive Bayes:  0.72787979966611\n"
     ]
    }
   ],
   "source": [
    "# Multinomial Naive Bayes\n",
    "text_clf_mnb = Pipeline([('cv', TfidfVectorizer()),\n",
    "                     ('mnb', MultinomialNB())])\n",
    "\n",
    "text_clf_mnb.fit(X_train, y_train)\n",
    "\n",
    "y_pred_mnb = text_clf_mnb.predict(X_test)\n",
    "f1_mnb = f1_score(y_pred_mnb, y_test)\n",
    "print(\"Accuracy Multinomial Naive Bayes: \", np.mean(y_pred_mnb == y_test))\n",
    "print(\"F1 Score Multinomial Naive Bayes: \", f1_mnb)"
   ]
  },
  {
   "cell_type": "code",
   "execution_count": 15,
   "id": "9124d432",
   "metadata": {},
   "outputs": [
    {
     "name": "stdout",
     "output_type": "stream",
     "text": [
      "              precision    recall  f1-score   support\n",
      "\n",
      "           0       0.93      0.74      0.82      1026\n",
      "           1       0.62      0.88      0.73       497\n",
      "\n",
      "    accuracy                           0.79      1523\n",
      "   macro avg       0.77      0.81      0.78      1523\n",
      "weighted avg       0.83      0.79      0.79      1523\n",
      "\n"
     ]
    }
   ],
   "source": [
    "print(classification_report(y_pred_mnb, y_test))"
   ]
  },
  {
   "cell_type": "code",
   "execution_count": 16,
   "id": "4465e7f7",
   "metadata": {},
   "outputs": [
    {
     "name": "stdout",
     "output_type": "stream",
     "text": [
      "Scores Multinomial Naive Bayes:  [0.64745011 0.61183866 0.72472472]\n",
      "Mean F1 Scores Multinomial Naive Bayes:  0.6613378315244103\n"
     ]
    }
   ],
   "source": [
    "# Cross Validation\n",
    "scores = model_selection.cross_val_score(text_clf_mnb, X, y, cv=3, scoring='f1')\n",
    "print(\"Scores Multinomial Naive Bayes: \", scores)\n",
    "print(\"Mean F1 Scores Multinomial Naive Bayes: \", np.mean(scores))"
   ]
  },
  {
   "cell_type": "markdown",
   "id": "80fa142e",
   "metadata": {},
   "source": [
    "## 2. Logistic Regression  Classifier"
   ]
  },
  {
   "cell_type": "code",
   "execution_count": 17,
   "id": "4cb645bf",
   "metadata": {},
   "outputs": [
    {
     "name": "stdout",
     "output_type": "stream",
     "text": [
      "Accuracy Logistic Regression:  0.7925147734734077\n",
      "F1 Score Logistic Regression:  0.7463884430176565\n"
     ]
    }
   ],
   "source": [
    "# Logistic Regression\n",
    "text_clf_lr = Pipeline([('cv', TfidfVectorizer()),\n",
    "                     ('lr', LogisticRegression())])\n",
    "\n",
    "text_clf_lr.fit(X_train, y_train)\n",
    "\n",
    "y_pred_lr = text_clf_lr.predict(X_test)\n",
    "f1_lr = f1_score(y_pred_lr, y_test)\n",
    "\n",
    "print(\"Accuracy Logistic Regression: \", np.mean(y_pred_lr == y_test))\n",
    "\n",
    "print(\"F1 Score Logistic Regression: \", f1_lr)"
   ]
  },
  {
   "cell_type": "code",
   "execution_count": 18,
   "id": "df2b88ee",
   "metadata": {},
   "outputs": [
    {
     "name": "stdout",
     "output_type": "stream",
     "text": [
      "              precision    recall  f1-score   support\n",
      "\n",
      "           0       0.90      0.76      0.82       978\n",
      "           1       0.66      0.85      0.75       545\n",
      "\n",
      "    accuracy                           0.79      1523\n",
      "   macro avg       0.78      0.81      0.79      1523\n",
      "weighted avg       0.82      0.79      0.80      1523\n",
      "\n"
     ]
    }
   ],
   "source": [
    "print(classification_report(y_pred_lr, y_test))"
   ]
  },
  {
   "cell_type": "code",
   "execution_count": 19,
   "id": "779ccec8",
   "metadata": {},
   "outputs": [
    {
     "name": "stdout",
     "output_type": "stream",
     "text": [
      "Scores Logistic Regression:  [0.66155531 0.62033195 0.70128586]\n",
      "Mean F1 Scores Logistic Regression:  0.6610577059845723\n"
     ]
    }
   ],
   "source": [
    "scores_lr = model_selection.cross_val_score(text_clf_lr, X, y, cv=3, scoring='f1')\n",
    "print(\"Scores Logistic Regression: \", scores_lr)\n",
    "print(\"Mean F1 Scores Logistic Regression: \", np.mean(scores_lr))"
   ]
  },
  {
   "cell_type": "markdown",
   "id": "350d32c3",
   "metadata": {},
   "source": [
    "## 3. Support Vector Classifier"
   ]
  },
  {
   "cell_type": "code",
   "execution_count": 20,
   "id": "0ee467aa",
   "metadata": {},
   "outputs": [
    {
     "name": "stdout",
     "output_type": "stream",
     "text": [
      "Accuracy SVC:  0.7944845699277742\n",
      "F1 Score SVC:  0.746147607461476\n"
     ]
    }
   ],
   "source": [
    "svc = SVC()\n",
    "\n",
    "text_clf_svc = Pipeline([(\"tfidf\", TfidfVectorizer()), \n",
    "                         (\"clf\", SVC())])\n",
    "text_clf_svc.fit(X_train, y_train)\n",
    "\n",
    "y_pred_svc = text_clf_svc.predict(X_test)\n",
    "f1_svc = f1_score(y_pred_svc, y_test)\n",
    "\n",
    "print(\"Accuracy SVC: \", np.mean(y_pred_svc == y_test))\n",
    "\n",
    "print(\"F1 Score SVC: \", f1_svc)"
   ]
  },
  {
   "cell_type": "code",
   "execution_count": 22,
   "id": "dc55d512",
   "metadata": {},
   "outputs": [
    {
     "name": "stdout",
     "output_type": "stream",
     "text": [
      "              precision    recall  f1-score   support\n",
      "\n",
      "           0       0.92      0.78      0.85      1029\n",
      "           1       0.65      0.86      0.74       494\n",
      "\n",
      "    accuracy                           0.81      1523\n",
      "   macro avg       0.79      0.82      0.79      1523\n",
      "weighted avg       0.83      0.81      0.81      1523\n",
      "\n"
     ]
    }
   ],
   "source": [
    "print(classification_report(y_pred_svc, y_test))"
   ]
  },
  {
   "cell_type": "code",
   "execution_count": 23,
   "id": "c65c8b15",
   "metadata": {},
   "outputs": [
    {
     "name": "stdout",
     "output_type": "stream",
     "text": [
      "Scores SVC:  [0.63352601 0.59581498 0.68500259]\n",
      "Mean F1 Scores SVC:  0.6381145280803534\n"
     ]
    }
   ],
   "source": [
    "scores_svc = model_selection.cross_val_score(text_clf_svc, X, y, cv=3, scoring='f1')\n",
    "print(\"Scores SVC: \", scores_svc)\n",
    "print(\"Mean F1 Scores SVC: \", np.mean(scores_svc))"
   ]
  },
  {
   "cell_type": "markdown",
   "id": "da09e0dd",
   "metadata": {},
   "source": [
    "## Select Best Model"
   ]
  },
  {
   "cell_type": "code",
   "execution_count": 21,
   "id": "b657c64e",
   "metadata": {},
   "outputs": [
    {
     "name": "stdout",
     "output_type": "stream",
     "text": [
      "[('lr', 0.7463884430176565), ('svc', 0.746147607461476), ('mnb', 0.72787979966611)]\n"
     ]
    }
   ],
   "source": [
    "f1_scores = {\"mnb\": f1_mnb, \"lr\": f1_lr, \"svc\": f1_svc}\n",
    "print(sorted(f1_scores.items(), key = lambda x: x[1], reverse=True))"
   ]
  },
  {
   "cell_type": "code",
   "execution_count": 22,
   "id": "1a1a4fd1",
   "metadata": {},
   "outputs": [
    {
     "name": "stdout",
     "output_type": "stream",
     "text": [
      "[0]\n",
      "[1]\n"
     ]
    }
   ],
   "source": [
    "# test prediction of one data point\n",
    "test_0 = \"just got sent this photo from ruby alaska\"\n",
    "test_1 = \"forest fire near la ronge sask canada\"\n",
    "\n",
    "print(text_clf_lr.predict([test_0]))\n",
    "print(text_clf_lr.predict([test_1]))"
   ]
  },
  {
   "cell_type": "markdown",
   "id": "5091702b",
   "metadata": {},
   "source": [
    "## Pickle The Model "
   ]
  },
  {
   "cell_type": "code",
   "execution_count": 23,
   "id": "9c174c0b",
   "metadata": {},
   "outputs": [],
   "source": [
    "import pickle"
   ]
  },
  {
   "cell_type": "code",
   "execution_count": 34,
   "id": "eeb52469",
   "metadata": {},
   "outputs": [],
   "source": [
    "pickle.dump(text_clf_lr, open('text_clf_model.pkl', 'wb'))"
   ]
  },
  {
   "cell_type": "code",
   "execution_count": 36,
   "id": "d74b3baf",
   "metadata": {},
   "outputs": [],
   "source": [
    "pickled_model = pickle.load(open('text_clf_model.pkl', 'rb'))"
   ]
  },
  {
   "cell_type": "code",
   "execution_count": 49,
   "id": "ebdaadde",
   "metadata": {},
   "outputs": [
    {
     "name": "stdout",
     "output_type": "stream",
     "text": [
      "[0]\n",
      "[1]\n"
     ]
    }
   ],
   "source": [
    "print(pickled_model.predict([test_0]))\n",
    "print(pickled_model.predict([test_1]))"
   ]
  },
  {
   "cell_type": "code",
   "execution_count": null,
   "id": "d1591eb8",
   "metadata": {},
   "outputs": [],
   "source": []
  }
 ],
 "metadata": {
  "kernelspec": {
   "display_name": "Python 3 (ipykernel)",
   "language": "python",
   "name": "python3"
  },
  "language_info": {
   "codemirror_mode": {
    "name": "ipython",
    "version": 3
   },
   "file_extension": ".py",
   "mimetype": "text/x-python",
   "name": "python",
   "nbconvert_exporter": "python",
   "pygments_lexer": "ipython3",
   "version": "3.9.13"
  }
 },
 "nbformat": 4,
 "nbformat_minor": 5
}
