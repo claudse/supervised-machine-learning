{
  "nbformat": 4,
  "nbformat_minor": 0,
  "metadata": {
    "colab": {
      "provenance": []
    },
    "kernelspec": {
      "name": "python3",
      "display_name": "Python 3"
    },
    "language_info": {
      "name": "python"
    }
  },
  "cells": [
    {
      "cell_type": "markdown",
      "source": [
        "# Twitter Sentiment Analysis Prediction"
      ],
      "metadata": {
        "id": "pz-KhMdsqq43"
      }
    },
    {
      "cell_type": "markdown",
      "source": [
        "In this notebook we will classify the sentiment of twitter messages. There are three classes: Positive, Negative and Neutral. The class Irrelevant of the dataset is regarded as Neutral. The data can be found here: <a href=\"https://www.kaggle.com/datasets/jp797498e/twitter-entity-sentiment-analysis\">https://www.kaggle.com/datasets/jp797498e/twitter-entity-sentiment-analysis</a>"
      ],
      "metadata": {
        "id": "C1mknsXPK7NK"
      }
    },
    {
      "cell_type": "code",
      "execution_count": 25,
      "metadata": {
        "id": "1L0rJWItpMTR"
      },
      "outputs": [],
      "source": [
        "import tensorflow as tf\n",
        "from tensorflow import keras\n",
        "\n",
        "import numpy as np\n",
        "import pandas as pd\n",
        "import re"
      ]
    },
    {
      "cell_type": "markdown",
      "source": [
        "## Load Training and Test Data"
      ],
      "metadata": {
        "id": "cxQuXRXWAFpW"
      }
    },
    {
      "cell_type": "code",
      "source": [
        "df = pd.read_csv(\"twitter_training.csv\")\n",
        "df.head()"
      ],
      "metadata": {
        "colab": {
          "base_uri": "https://localhost:8080/",
          "height": 206
        },
        "id": "qmGdGnoHpudK",
        "outputId": "6abf27c2-63c9-43f3-e6b1-7050596df303"
      },
      "execution_count": 2,
      "outputs": [
        {
          "output_type": "execute_result",
          "data": {
            "text/plain": [
              "   2401  Borderlands  Positive  \\\n",
              "0  2401  Borderlands  Positive   \n",
              "1  2401  Borderlands  Positive   \n",
              "2  2401  Borderlands  Positive   \n",
              "3  2401  Borderlands  Positive   \n",
              "4  2401  Borderlands  Positive   \n",
              "\n",
              "  im getting on borderlands and i will murder you all ,  \n",
              "0  I am coming to the borders and I will kill you...     \n",
              "1  im getting on borderlands and i will kill you ...     \n",
              "2  im coming on borderlands and i will murder you...     \n",
              "3  im getting on borderlands 2 and i will murder ...     \n",
              "4  im getting into borderlands and i can murder y...     "
            ],
            "text/html": [
              "\n",
              "  <div id=\"df-2ea348b0-7606-4a25-bae0-1dacb7520b0e\">\n",
              "    <div class=\"colab-df-container\">\n",
              "      <div>\n",
              "<style scoped>\n",
              "    .dataframe tbody tr th:only-of-type {\n",
              "        vertical-align: middle;\n",
              "    }\n",
              "\n",
              "    .dataframe tbody tr th {\n",
              "        vertical-align: top;\n",
              "    }\n",
              "\n",
              "    .dataframe thead th {\n",
              "        text-align: right;\n",
              "    }\n",
              "</style>\n",
              "<table border=\"1\" class=\"dataframe\">\n",
              "  <thead>\n",
              "    <tr style=\"text-align: right;\">\n",
              "      <th></th>\n",
              "      <th>2401</th>\n",
              "      <th>Borderlands</th>\n",
              "      <th>Positive</th>\n",
              "      <th>im getting on borderlands and i will murder you all ,</th>\n",
              "    </tr>\n",
              "  </thead>\n",
              "  <tbody>\n",
              "    <tr>\n",
              "      <th>0</th>\n",
              "      <td>2401</td>\n",
              "      <td>Borderlands</td>\n",
              "      <td>Positive</td>\n",
              "      <td>I am coming to the borders and I will kill you...</td>\n",
              "    </tr>\n",
              "    <tr>\n",
              "      <th>1</th>\n",
              "      <td>2401</td>\n",
              "      <td>Borderlands</td>\n",
              "      <td>Positive</td>\n",
              "      <td>im getting on borderlands and i will kill you ...</td>\n",
              "    </tr>\n",
              "    <tr>\n",
              "      <th>2</th>\n",
              "      <td>2401</td>\n",
              "      <td>Borderlands</td>\n",
              "      <td>Positive</td>\n",
              "      <td>im coming on borderlands and i will murder you...</td>\n",
              "    </tr>\n",
              "    <tr>\n",
              "      <th>3</th>\n",
              "      <td>2401</td>\n",
              "      <td>Borderlands</td>\n",
              "      <td>Positive</td>\n",
              "      <td>im getting on borderlands 2 and i will murder ...</td>\n",
              "    </tr>\n",
              "    <tr>\n",
              "      <th>4</th>\n",
              "      <td>2401</td>\n",
              "      <td>Borderlands</td>\n",
              "      <td>Positive</td>\n",
              "      <td>im getting into borderlands and i can murder y...</td>\n",
              "    </tr>\n",
              "  </tbody>\n",
              "</table>\n",
              "</div>\n",
              "      <button class=\"colab-df-convert\" onclick=\"convertToInteractive('df-2ea348b0-7606-4a25-bae0-1dacb7520b0e')\"\n",
              "              title=\"Convert this dataframe to an interactive table.\"\n",
              "              style=\"display:none;\">\n",
              "        \n",
              "  <svg xmlns=\"http://www.w3.org/2000/svg\" height=\"24px\"viewBox=\"0 0 24 24\"\n",
              "       width=\"24px\">\n",
              "    <path d=\"M0 0h24v24H0V0z\" fill=\"none\"/>\n",
              "    <path d=\"M18.56 5.44l.94 2.06.94-2.06 2.06-.94-2.06-.94-.94-2.06-.94 2.06-2.06.94zm-11 1L8.5 8.5l.94-2.06 2.06-.94-2.06-.94L8.5 2.5l-.94 2.06-2.06.94zm10 10l.94 2.06.94-2.06 2.06-.94-2.06-.94-.94-2.06-.94 2.06-2.06.94z\"/><path d=\"M17.41 7.96l-1.37-1.37c-.4-.4-.92-.59-1.43-.59-.52 0-1.04.2-1.43.59L10.3 9.45l-7.72 7.72c-.78.78-.78 2.05 0 2.83L4 21.41c.39.39.9.59 1.41.59.51 0 1.02-.2 1.41-.59l7.78-7.78 2.81-2.81c.8-.78.8-2.07 0-2.86zM5.41 20L4 18.59l7.72-7.72 1.47 1.35L5.41 20z\"/>\n",
              "  </svg>\n",
              "      </button>\n",
              "      \n",
              "  <style>\n",
              "    .colab-df-container {\n",
              "      display:flex;\n",
              "      flex-wrap:wrap;\n",
              "      gap: 12px;\n",
              "    }\n",
              "\n",
              "    .colab-df-convert {\n",
              "      background-color: #E8F0FE;\n",
              "      border: none;\n",
              "      border-radius: 50%;\n",
              "      cursor: pointer;\n",
              "      display: none;\n",
              "      fill: #1967D2;\n",
              "      height: 32px;\n",
              "      padding: 0 0 0 0;\n",
              "      width: 32px;\n",
              "    }\n",
              "\n",
              "    .colab-df-convert:hover {\n",
              "      background-color: #E2EBFA;\n",
              "      box-shadow: 0px 1px 2px rgba(60, 64, 67, 0.3), 0px 1px 3px 1px rgba(60, 64, 67, 0.15);\n",
              "      fill: #174EA6;\n",
              "    }\n",
              "\n",
              "    [theme=dark] .colab-df-convert {\n",
              "      background-color: #3B4455;\n",
              "      fill: #D2E3FC;\n",
              "    }\n",
              "\n",
              "    [theme=dark] .colab-df-convert:hover {\n",
              "      background-color: #434B5C;\n",
              "      box-shadow: 0px 1px 3px 1px rgba(0, 0, 0, 0.15);\n",
              "      filter: drop-shadow(0px 1px 2px rgba(0, 0, 0, 0.3));\n",
              "      fill: #FFFFFF;\n",
              "    }\n",
              "  </style>\n",
              "\n",
              "      <script>\n",
              "        const buttonEl =\n",
              "          document.querySelector('#df-2ea348b0-7606-4a25-bae0-1dacb7520b0e button.colab-df-convert');\n",
              "        buttonEl.style.display =\n",
              "          google.colab.kernel.accessAllowed ? 'block' : 'none';\n",
              "\n",
              "        async function convertToInteractive(key) {\n",
              "          const element = document.querySelector('#df-2ea348b0-7606-4a25-bae0-1dacb7520b0e');\n",
              "          const dataTable =\n",
              "            await google.colab.kernel.invokeFunction('convertToInteractive',\n",
              "                                                     [key], {});\n",
              "          if (!dataTable) return;\n",
              "\n",
              "          const docLinkHtml = 'Like what you see? Visit the ' +\n",
              "            '<a target=\"_blank\" href=https://colab.research.google.com/notebooks/data_table.ipynb>data table notebook</a>'\n",
              "            + ' to learn more about interactive tables.';\n",
              "          element.innerHTML = '';\n",
              "          dataTable['output_type'] = 'display_data';\n",
              "          await google.colab.output.renderOutput(dataTable, element);\n",
              "          const docLink = document.createElement('div');\n",
              "          docLink.innerHTML = docLinkHtml;\n",
              "          element.appendChild(docLink);\n",
              "        }\n",
              "      </script>\n",
              "    </div>\n",
              "  </div>\n",
              "  "
            ]
          },
          "metadata": {},
          "execution_count": 2
        }
      ]
    },
    {
      "cell_type": "code",
      "source": [
        "df_test = pd.read_csv(\"twitter_validation.csv\")\n",
        "df_test.head()"
      ],
      "metadata": {
        "colab": {
          "base_uri": "https://localhost:8080/",
          "height": 206
        },
        "id": "ceT_JZsLAJ0k",
        "outputId": "fa4f9682-77fa-4ce5-a7d0-8229bff4a585"
      },
      "execution_count": 3,
      "outputs": [
        {
          "output_type": "execute_result",
          "data": {
            "text/plain": [
              "   3364   Facebook Irrelevant  \\\n",
              "0   352     Amazon    Neutral   \n",
              "1  8312  Microsoft   Negative   \n",
              "2  4371      CS-GO   Negative   \n",
              "3  4433     Google    Neutral   \n",
              "4  6273       FIFA   Negative   \n",
              "\n",
              "  I mentioned on Facebook that I was struggling for motivation to go for a run the other day, which has been translated by Tom’s great auntie as ‘Hayley can’t get out of bed’ and told to his grandma, who now thinks I’m a lazy, terrible person 🤣  \n",
              "0  BBC News - Amazon boss Jeff Bezos rejects clai...                                                                                                                                                                                                  \n",
              "1  @Microsoft Why do I pay for WORD when it funct...                                                                                                                                                                                                  \n",
              "2  CSGO matchmaking is so full of closet hacking,...                                                                                                                                                                                                  \n",
              "3  Now the President is slapping Americans in the...                                                                                                                                                                                                  \n",
              "4  Hi @EAHelp I’ve had Madeleine McCann in my cel...                                                                                                                                                                                                  "
            ],
            "text/html": [
              "\n",
              "  <div id=\"df-8fa85a9b-a7e1-45ec-832a-c9880b0ae5bd\">\n",
              "    <div class=\"colab-df-container\">\n",
              "      <div>\n",
              "<style scoped>\n",
              "    .dataframe tbody tr th:only-of-type {\n",
              "        vertical-align: middle;\n",
              "    }\n",
              "\n",
              "    .dataframe tbody tr th {\n",
              "        vertical-align: top;\n",
              "    }\n",
              "\n",
              "    .dataframe thead th {\n",
              "        text-align: right;\n",
              "    }\n",
              "</style>\n",
              "<table border=\"1\" class=\"dataframe\">\n",
              "  <thead>\n",
              "    <tr style=\"text-align: right;\">\n",
              "      <th></th>\n",
              "      <th>3364</th>\n",
              "      <th>Facebook</th>\n",
              "      <th>Irrelevant</th>\n",
              "      <th>I mentioned on Facebook that I was struggling for motivation to go for a run the other day, which has been translated by Tom’s great auntie as ‘Hayley can’t get out of bed’ and told to his grandma, who now thinks I’m a lazy, terrible person 🤣</th>\n",
              "    </tr>\n",
              "  </thead>\n",
              "  <tbody>\n",
              "    <tr>\n",
              "      <th>0</th>\n",
              "      <td>352</td>\n",
              "      <td>Amazon</td>\n",
              "      <td>Neutral</td>\n",
              "      <td>BBC News - Amazon boss Jeff Bezos rejects clai...</td>\n",
              "    </tr>\n",
              "    <tr>\n",
              "      <th>1</th>\n",
              "      <td>8312</td>\n",
              "      <td>Microsoft</td>\n",
              "      <td>Negative</td>\n",
              "      <td>@Microsoft Why do I pay for WORD when it funct...</td>\n",
              "    </tr>\n",
              "    <tr>\n",
              "      <th>2</th>\n",
              "      <td>4371</td>\n",
              "      <td>CS-GO</td>\n",
              "      <td>Negative</td>\n",
              "      <td>CSGO matchmaking is so full of closet hacking,...</td>\n",
              "    </tr>\n",
              "    <tr>\n",
              "      <th>3</th>\n",
              "      <td>4433</td>\n",
              "      <td>Google</td>\n",
              "      <td>Neutral</td>\n",
              "      <td>Now the President is slapping Americans in the...</td>\n",
              "    </tr>\n",
              "    <tr>\n",
              "      <th>4</th>\n",
              "      <td>6273</td>\n",
              "      <td>FIFA</td>\n",
              "      <td>Negative</td>\n",
              "      <td>Hi @EAHelp I’ve had Madeleine McCann in my cel...</td>\n",
              "    </tr>\n",
              "  </tbody>\n",
              "</table>\n",
              "</div>\n",
              "      <button class=\"colab-df-convert\" onclick=\"convertToInteractive('df-8fa85a9b-a7e1-45ec-832a-c9880b0ae5bd')\"\n",
              "              title=\"Convert this dataframe to an interactive table.\"\n",
              "              style=\"display:none;\">\n",
              "        \n",
              "  <svg xmlns=\"http://www.w3.org/2000/svg\" height=\"24px\"viewBox=\"0 0 24 24\"\n",
              "       width=\"24px\">\n",
              "    <path d=\"M0 0h24v24H0V0z\" fill=\"none\"/>\n",
              "    <path d=\"M18.56 5.44l.94 2.06.94-2.06 2.06-.94-2.06-.94-.94-2.06-.94 2.06-2.06.94zm-11 1L8.5 8.5l.94-2.06 2.06-.94-2.06-.94L8.5 2.5l-.94 2.06-2.06.94zm10 10l.94 2.06.94-2.06 2.06-.94-2.06-.94-.94-2.06-.94 2.06-2.06.94z\"/><path d=\"M17.41 7.96l-1.37-1.37c-.4-.4-.92-.59-1.43-.59-.52 0-1.04.2-1.43.59L10.3 9.45l-7.72 7.72c-.78.78-.78 2.05 0 2.83L4 21.41c.39.39.9.59 1.41.59.51 0 1.02-.2 1.41-.59l7.78-7.78 2.81-2.81c.8-.78.8-2.07 0-2.86zM5.41 20L4 18.59l7.72-7.72 1.47 1.35L5.41 20z\"/>\n",
              "  </svg>\n",
              "      </button>\n",
              "      \n",
              "  <style>\n",
              "    .colab-df-container {\n",
              "      display:flex;\n",
              "      flex-wrap:wrap;\n",
              "      gap: 12px;\n",
              "    }\n",
              "\n",
              "    .colab-df-convert {\n",
              "      background-color: #E8F0FE;\n",
              "      border: none;\n",
              "      border-radius: 50%;\n",
              "      cursor: pointer;\n",
              "      display: none;\n",
              "      fill: #1967D2;\n",
              "      height: 32px;\n",
              "      padding: 0 0 0 0;\n",
              "      width: 32px;\n",
              "    }\n",
              "\n",
              "    .colab-df-convert:hover {\n",
              "      background-color: #E2EBFA;\n",
              "      box-shadow: 0px 1px 2px rgba(60, 64, 67, 0.3), 0px 1px 3px 1px rgba(60, 64, 67, 0.15);\n",
              "      fill: #174EA6;\n",
              "    }\n",
              "\n",
              "    [theme=dark] .colab-df-convert {\n",
              "      background-color: #3B4455;\n",
              "      fill: #D2E3FC;\n",
              "    }\n",
              "\n",
              "    [theme=dark] .colab-df-convert:hover {\n",
              "      background-color: #434B5C;\n",
              "      box-shadow: 0px 1px 3px 1px rgba(0, 0, 0, 0.15);\n",
              "      filter: drop-shadow(0px 1px 2px rgba(0, 0, 0, 0.3));\n",
              "      fill: #FFFFFF;\n",
              "    }\n",
              "  </style>\n",
              "\n",
              "      <script>\n",
              "        const buttonEl =\n",
              "          document.querySelector('#df-8fa85a9b-a7e1-45ec-832a-c9880b0ae5bd button.colab-df-convert');\n",
              "        buttonEl.style.display =\n",
              "          google.colab.kernel.accessAllowed ? 'block' : 'none';\n",
              "\n",
              "        async function convertToInteractive(key) {\n",
              "          const element = document.querySelector('#df-8fa85a9b-a7e1-45ec-832a-c9880b0ae5bd');\n",
              "          const dataTable =\n",
              "            await google.colab.kernel.invokeFunction('convertToInteractive',\n",
              "                                                     [key], {});\n",
              "          if (!dataTable) return;\n",
              "\n",
              "          const docLinkHtml = 'Like what you see? Visit the ' +\n",
              "            '<a target=\"_blank\" href=https://colab.research.google.com/notebooks/data_table.ipynb>data table notebook</a>'\n",
              "            + ' to learn more about interactive tables.';\n",
              "          element.innerHTML = '';\n",
              "          dataTable['output_type'] = 'display_data';\n",
              "          await google.colab.output.renderOutput(dataTable, element);\n",
              "          const docLink = document.createElement('div');\n",
              "          docLink.innerHTML = docLinkHtml;\n",
              "          element.appendChild(docLink);\n",
              "        }\n",
              "      </script>\n",
              "    </div>\n",
              "  </div>\n",
              "  "
            ]
          },
          "metadata": {},
          "execution_count": 3
        }
      ]
    },
    {
      "cell_type": "markdown",
      "source": [
        "## Preprocessing of Text Data"
      ],
      "metadata": {
        "id": "tu8MIWGKtxzU"
      }
    },
    {
      "cell_type": "code",
      "source": [
        "# training data\n",
        "X = df.iloc[:,3]\n",
        "X"
      ],
      "metadata": {
        "colab": {
          "base_uri": "https://localhost:8080/"
        },
        "id": "icsEY7qUq9JC",
        "outputId": "ca42f4a1-0ac2-44a4-adcb-3ac6f83cbc96"
      },
      "execution_count": 4,
      "outputs": [
        {
          "output_type": "execute_result",
          "data": {
            "text/plain": [
              "0        I am coming to the borders and I will kill you...\n",
              "1        im getting on borderlands and i will kill you ...\n",
              "2        im coming on borderlands and i will murder you...\n",
              "3        im getting on borderlands 2 and i will murder ...\n",
              "4        im getting into borderlands and i can murder y...\n",
              "                               ...                        \n",
              "74676    Just realized that the Windows partition of my...\n",
              "74677    Just realized that my Mac window partition is ...\n",
              "74678    Just realized the windows partition of my Mac ...\n",
              "74679    Just realized between the windows partition of...\n",
              "74680    Just like the windows partition of my Mac is l...\n",
              "Name: im getting on borderlands and i will murder you all ,, Length: 74681, dtype: object"
            ]
          },
          "metadata": {},
          "execution_count": 4
        }
      ]
    },
    {
      "cell_type": "code",
      "source": [
        "# test data\n",
        "X_test = df_test.iloc[:,3]\n",
        "X_test"
      ],
      "metadata": {
        "colab": {
          "base_uri": "https://localhost:8080/"
        },
        "id": "KcuUKropAU7X",
        "outputId": "d55e30e1-0a14-46fc-ad99-ac6f3b7db228"
      },
      "execution_count": 5,
      "outputs": [
        {
          "output_type": "execute_result",
          "data": {
            "text/plain": [
              "0      BBC News - Amazon boss Jeff Bezos rejects clai...\n",
              "1      @Microsoft Why do I pay for WORD when it funct...\n",
              "2      CSGO matchmaking is so full of closet hacking,...\n",
              "3      Now the President is slapping Americans in the...\n",
              "4      Hi @EAHelp I’ve had Madeleine McCann in my cel...\n",
              "                             ...                        \n",
              "994    ⭐️ Toronto is the arts and culture capital of ...\n",
              "995    tHIS IS ACTUALLY A GOOD MOVE TOT BRING MORE VI...\n",
              "996    Today sucked so it’s time to drink wine n play...\n",
              "997    Bought a fraction of Microsoft today. Small wins.\n",
              "998    Johnson & Johnson to stop selling talc baby po...\n",
              "Name: I mentioned on Facebook that I was struggling for motivation to go for a run the other day, which has been translated by Tom’s great auntie as ‘Hayley can’t get out of bed’ and told to his grandma, who now thinks I’m a lazy, terrible person 🤣, Length: 999, dtype: object"
            ]
          },
          "metadata": {},
          "execution_count": 5
        }
      ]
    },
    {
      "cell_type": "code",
      "source": [
        "# clean text data\n",
        "def clean_text(text):\n",
        "    # make all characters lowercase\n",
        "    text = text.lower()\n",
        "    \n",
        "    # eliminate hashtags \n",
        "    hashtags = '#\\S+'\n",
        "    text = re.sub(hashtags, '', text)\n",
        "\n",
        "    # eliminate mentions\n",
        "    mentions = '@\\S+'\n",
        "    text = re.sub(mentions, '', text)\n",
        "\n",
        "    # eliminate urls\n",
        "    url = 'https?://[A-z0-9_%/\\-\\.]+[A-z0-9_\\.\\-\\?&=%]+'\n",
        "    text = re.sub(url, '', text)\n",
        "\n",
        "    # eliminate puntuations\n",
        "    puntuations =  r'[^\\w\\s]'\n",
        "    text = re.sub(puntuations, '', text)\n",
        "    \n",
        "    return text"
      ],
      "metadata": {
        "id": "fd-9xcBKt327"
      },
      "execution_count": 6,
      "outputs": []
    },
    {
      "cell_type": "code",
      "source": [
        "# eliminate float in the text data\n",
        "X = X.astype(str)\n",
        "X_test = X_test.astype(str)\n",
        "\n",
        "# apply clean text data on X\n",
        "X = X.map(clean_text)\n",
        "X_test = X_test.map(clean_text)"
      ],
      "metadata": {
        "id": "iY0AHeBf9VM6"
      },
      "execution_count": 7,
      "outputs": []
    },
    {
      "cell_type": "code",
      "source": [
        "X"
      ],
      "metadata": {
        "colab": {
          "base_uri": "https://localhost:8080/"
        },
        "id": "r6KkRZTWWV2-",
        "outputId": "5d208e3b-773d-428c-cc3c-4b28fa64db92"
      },
      "execution_count": 8,
      "outputs": [
        {
          "output_type": "execute_result",
          "data": {
            "text/plain": [
              "0        i am coming to the borders and i will kill you...\n",
              "1        im getting on borderlands and i will kill you all\n",
              "2        im coming on borderlands and i will murder you...\n",
              "3        im getting on borderlands 2 and i will murder ...\n",
              "4        im getting into borderlands and i can murder y...\n",
              "                               ...                        \n",
              "74676    just realized that the windows partition of my...\n",
              "74677    just realized that my mac window partition is ...\n",
              "74678    just realized the windows partition of my mac ...\n",
              "74679    just realized between the windows partition of...\n",
              "74680    just like the windows partition of my mac is l...\n",
              "Name: im getting on borderlands and i will murder you all ,, Length: 74681, dtype: object"
            ]
          },
          "metadata": {},
          "execution_count": 8
        }
      ]
    },
    {
      "cell_type": "code",
      "source": [
        "X_test"
      ],
      "metadata": {
        "colab": {
          "base_uri": "https://localhost:8080/"
        },
        "id": "BDBgirJbWruj",
        "outputId": "bf718005-7b01-4680-c5be-c0b417ddb27e"
      },
      "execution_count": 9,
      "outputs": [
        {
          "output_type": "execute_result",
          "data": {
            "text/plain": [
              "0      bbc news  amazon boss jeff bezos rejects claim...\n",
              "1       why do i pay for word when it functions so po...\n",
              "2      csgo matchmaking is so full of closet hacking ...\n",
              "3      now the president is slapping americans in the...\n",
              "4      hi  ive had madeleine mccann in my cellar for ...\n",
              "                             ...                        \n",
              "994     toronto is the arts and culture capital of ca...\n",
              "995    this is actually a good move tot bring more vi...\n",
              "996    today sucked so its time to drink wine n play ...\n",
              "997      bought a fraction of microsoft today small wins\n",
              "998    johnson  johnson to stop selling talc baby pow...\n",
              "Name: I mentioned on Facebook that I was struggling for motivation to go for a run the other day, which has been translated by Tom’s great auntie as ‘Hayley can’t get out of bed’ and told to his grandma, who now thinks I’m a lazy, terrible person 🤣, Length: 999, dtype: object"
            ]
          },
          "metadata": {},
          "execution_count": 9
        }
      ]
    },
    {
      "cell_type": "markdown",
      "source": [
        "## Map Labels to Integer Values\n"
      ],
      "metadata": {
        "id": "dwXl2h-AtgZS"
      }
    },
    {
      "cell_type": "code",
      "source": [
        "# y train\n",
        "y = df.iloc[:,2]\n",
        "y"
      ],
      "metadata": {
        "colab": {
          "base_uri": "https://localhost:8080/"
        },
        "id": "aAxQLzHSrdMy",
        "outputId": "90152e31-5bc9-4c76-f7e6-4f79138d4ea3"
      },
      "execution_count": 10,
      "outputs": [
        {
          "output_type": "execute_result",
          "data": {
            "text/plain": [
              "0        Positive\n",
              "1        Positive\n",
              "2        Positive\n",
              "3        Positive\n",
              "4        Positive\n",
              "           ...   \n",
              "74676    Positive\n",
              "74677    Positive\n",
              "74678    Positive\n",
              "74679    Positive\n",
              "74680    Positive\n",
              "Name: Positive, Length: 74681, dtype: object"
            ]
          },
          "metadata": {},
          "execution_count": 10
        }
      ]
    },
    {
      "cell_type": "code",
      "source": [
        "# y test\n",
        "y_test = df_test.iloc[:,2]\n",
        "y_test"
      ],
      "metadata": {
        "colab": {
          "base_uri": "https://localhost:8080/"
        },
        "id": "-8ivO8siAu25",
        "outputId": "4f243593-c797-4b8a-afdd-62c1d81e4abe"
      },
      "execution_count": 11,
      "outputs": [
        {
          "output_type": "execute_result",
          "data": {
            "text/plain": [
              "0         Neutral\n",
              "1        Negative\n",
              "2        Negative\n",
              "3         Neutral\n",
              "4        Negative\n",
              "          ...    \n",
              "994    Irrelevant\n",
              "995    Irrelevant\n",
              "996      Positive\n",
              "997      Positive\n",
              "998       Neutral\n",
              "Name: Irrelevant, Length: 999, dtype: object"
            ]
          },
          "metadata": {},
          "execution_count": 11
        }
      ]
    },
    {
      "cell_type": "code",
      "source": [
        "print(set(y.values))\n",
        "print(set(y_test.values))"
      ],
      "metadata": {
        "colab": {
          "base_uri": "https://localhost:8080/"
        },
        "id": "2CUHm2RRs7Zr",
        "outputId": "b8cc57b5-05cc-40a3-be24-e60c73102819"
      },
      "execution_count": 12,
      "outputs": [
        {
          "output_type": "stream",
          "name": "stdout",
          "text": [
            "{'Negative', 'Irrelevant', 'Positive', 'Neutral'}\n",
            "{'Irrelevant', 'Positive', 'Negative', 'Neutral'}\n"
          ]
        }
      ]
    },
    {
      "cell_type": "code",
      "source": [
        "map_pos_neg_neutr = {'Positive': 0, 'Neutral': 1, 'Irrelevant': 1, 'Negative': 2}\n",
        "\n",
        "y = y.map(map_pos_neg_neutr)\n",
        "y_test = y_test.map(map_pos_neg_neutr)"
      ],
      "metadata": {
        "id": "oz1t3wmSsiHF"
      },
      "execution_count": 13,
      "outputs": []
    },
    {
      "cell_type": "code",
      "source": [
        "print(\"y values:\", set(y.values))\n",
        "print(\"y_test: \", set(y_test.values))"
      ],
      "metadata": {
        "colab": {
          "base_uri": "https://localhost:8080/"
        },
        "id": "hF3xnDG1tV2y",
        "outputId": "5be14d45-ddb1-4a93-912c-79de26faeda6"
      },
      "execution_count": 14,
      "outputs": [
        {
          "output_type": "stream",
          "name": "stdout",
          "text": [
            "y values: {0, 1, 2}\n",
            "y_test:  {0, 1, 2}\n"
          ]
        }
      ]
    },
    {
      "cell_type": "markdown",
      "source": [
        "## Split the Training Data into Training and Validation Set "
      ],
      "metadata": {
        "id": "dMgqm3gb-N9n"
      }
    },
    {
      "cell_type": "code",
      "source": [
        "# split the data into training and validation set\n",
        "from sklearn.model_selection import train_test_split\n",
        "\n",
        "# split into training and test set\n",
        "X_train, X_val, y_train, y_val = train_test_split(X, y, test_size=0.2, random_state=42) "
      ],
      "metadata": {
        "id": "QoVfrOyb-e9u"
      },
      "execution_count": 15,
      "outputs": []
    },
    {
      "cell_type": "markdown",
      "source": [
        "## Convert Labels to One Hot Encoded Values"
      ],
      "metadata": {
        "id": "kU2G0GXI_ULY"
      }
    },
    {
      "cell_type": "code",
      "source": [
        "# convert label vector to one-hot encoded vectors\n",
        "from keras.utils import to_categorical\n",
        "\n",
        "num_classes = 3\n",
        "y_train_onehot = to_categorical(y_train, num_classes=num_classes)\n",
        "y_val_onehot = to_categorical(y_val, num_classes=num_classes)\n",
        "y_test_onehot = to_categorical(y_test, num_classes=num_classes)"
      ],
      "metadata": {
        "id": "XmAzDEBG_g4E"
      },
      "execution_count": 16,
      "outputs": []
    },
    {
      "cell_type": "code",
      "source": [
        "y_train_onehot"
      ],
      "metadata": {
        "colab": {
          "base_uri": "https://localhost:8080/"
        },
        "id": "QMUgvTrzaJHZ",
        "outputId": "6944b466-aadf-4efd-bba1-32f33f09b862"
      },
      "execution_count": 17,
      "outputs": [
        {
          "output_type": "execute_result",
          "data": {
            "text/plain": [
              "array([[0., 1., 0.],\n",
              "       [1., 0., 0.],\n",
              "       [0., 1., 0.],\n",
              "       ...,\n",
              "       [0., 0., 1.],\n",
              "       [0., 0., 1.],\n",
              "       [0., 1., 0.]], dtype=float32)"
            ]
          },
          "metadata": {},
          "execution_count": 17
        }
      ]
    },
    {
      "cell_type": "code",
      "source": [
        "y_val_onehot"
      ],
      "metadata": {
        "colab": {
          "base_uri": "https://localhost:8080/"
        },
        "id": "3IrfNW0maK3l",
        "outputId": "928238b5-805b-46fd-c526-ec242cef7595"
      },
      "execution_count": 18,
      "outputs": [
        {
          "output_type": "execute_result",
          "data": {
            "text/plain": [
              "array([[0., 1., 0.],\n",
              "       [1., 0., 0.],\n",
              "       [0., 0., 1.],\n",
              "       ...,\n",
              "       [1., 0., 0.],\n",
              "       [0., 0., 1.],\n",
              "       [0., 1., 0.]], dtype=float32)"
            ]
          },
          "metadata": {},
          "execution_count": 18
        }
      ]
    },
    {
      "cell_type": "code",
      "source": [
        "y_test_onehot"
      ],
      "metadata": {
        "colab": {
          "base_uri": "https://localhost:8080/"
        },
        "id": "ip4Ys5iHaNJd",
        "outputId": "9e1af47e-13b8-43cb-b8db-4266ea8b54b8"
      },
      "execution_count": 19,
      "outputs": [
        {
          "output_type": "execute_result",
          "data": {
            "text/plain": [
              "array([[0., 1., 0.],\n",
              "       [0., 0., 1.],\n",
              "       [0., 0., 1.],\n",
              "       ...,\n",
              "       [1., 0., 0.],\n",
              "       [1., 0., 0.],\n",
              "       [0., 1., 0.]], dtype=float32)"
            ]
          },
          "metadata": {},
          "execution_count": 19
        }
      ]
    },
    {
      "cell_type": "markdown",
      "source": [
        "## Convert Text Data to Sequences"
      ],
      "metadata": {
        "id": "Ry5kajNWGsbh"
      }
    },
    {
      "cell_type": "code",
      "source": [
        "print(\"X_train: \", X_train.shape)\n",
        "print(\"X_val: \", X_val.shape)\n",
        "print(\"X_test: \", X_test.shape)\n",
        "print(\"\")\n",
        "print(\"y_train one-hot: \", y_train_onehot.shape)\n",
        "print(\"y_val one-hot: \", y_val_onehot.shape)\n",
        "print(\"y_test one-hot: \", y_test_onehot.shape)"
      ],
      "metadata": {
        "colab": {
          "base_uri": "https://localhost:8080/"
        },
        "id": "eSn90O_qGzhK",
        "outputId": "50e741a7-d7be-45b2-9af3-8b1faaaa3a98"
      },
      "execution_count": 20,
      "outputs": [
        {
          "output_type": "stream",
          "name": "stdout",
          "text": [
            "X_train:  (59744,)\n",
            "X_val:  (14937,)\n",
            "X_test:  (999,)\n",
            "\n",
            "y_train one-hot:  (59744, 3)\n",
            "y_val one-hot:  (14937, 3)\n",
            "y_test one-hot:  (999, 3)\n"
          ]
        }
      ]
    },
    {
      "cell_type": "code",
      "source": [
        "# transform the text data to numerical data with Tokenizer\n",
        "from keras.preprocessing.text import Tokenizer\n",
        "from tensorflow.keras.preprocessing.sequence import pad_sequences\n",
        "\n",
        "# create tokenizer\n",
        "tokenizer = Tokenizer()\n",
        "\n",
        "# fit tokenizer on training data\n",
        "tokenizer.fit_on_texts(X_train)\n",
        "\n",
        "# convert text data to sequences of integer IDs,\n",
        "sequences_train = tokenizer.texts_to_sequences(X_train)\n",
        "\n",
        "# calculate lengths of the sequences\n",
        "seq_len = [len(seq) for seq in sequences_train]\n",
        "\n",
        "# calculate maxlen for the padded sequences using the 95 percentile of the length of the sequences\n",
        "maxlen = int(np.percentile(seq_len, 95))\n",
        "\n",
        "X_train_padded = pad_sequences(sequences_train, maxlen=maxlen, padding='post')\n",
        "\n",
        "# transform X_test\n",
        "sequences_test = tokenizer.texts_to_sequences(X_test)\n",
        "X_test_padded = pad_sequences(sequences_test, maxlen=maxlen, padding='post')\n",
        "\n",
        "# transform X_val\n",
        "sequences_val = tokenizer.texts_to_sequences(X_val)\n",
        "X_val_padded = pad_sequences(sequences_val, maxlen=maxlen, padding='post')\n",
        "\n",
        "print(\"max len: \", maxlen)\n",
        "print(sequences_train[:5])\n",
        "print(X_train_padded[:5])\n"
      ],
      "metadata": {
        "colab": {
          "base_uri": "https://localhost:8080/"
        },
        "id": "0jYEnR6GG60I",
        "outputId": "f16fdcdf-7232-4cf5-cd69-c1cba530b3d4"
      },
      "execution_count": 21,
      "outputs": [
        {
          "output_type": "stream",
          "name": "stdout",
          "text": [
            "max len:  46\n",
            "[[14, 2470, 19318, 28, 18, 599, 27, 19, 8, 303, 32, 6, 255, 4089, 5, 7871, 6, 245, 3704, 4, 766, 3704], [2, 540, 199, 15, 8, 147, 791, 6, 121, 2, 21, 27, 650, 11, 5286, 19, 27, 596, 3965, 576, 6, 5005], [449, 11985, 66, 25205, 66, 449, 4431, 216, 1545, 5893, 4, 4579, 11985, 6768, 9751, 27, 170, 216, 1830, 4580], [71, 123, 93, 11, 127, 7, 39, 2, 233, 475, 1, 8542, 11986, 3598, 13, 754, 165, 25, 19319], [27, 1, 221, 61, 651, 1, 408, 15, 93, 24, 514, 63, 252, 462, 64, 696, 584, 1, 917, 452, 131, 6, 86, 44, 23, 21, 297, 3, 300, 486, 4, 44, 23, 21, 297, 3, 300, 264, 222, 131, 6, 86, 44, 23, 21, 297, 3, 300, 264]]\n",
            "[[   14  2470 19318    28    18   599    27    19     8   303    32     6\n",
            "    255  4089     5  7871     6   245  3704     4   766  3704     0     0\n",
            "      0     0     0     0     0     0     0     0     0     0     0     0\n",
            "      0     0     0     0     0     0     0     0     0     0]\n",
            " [    2   540   199    15     8   147   791     6   121     2    21    27\n",
            "    650    11  5286    19    27   596  3965   576     6  5005     0     0\n",
            "      0     0     0     0     0     0     0     0     0     0     0     0\n",
            "      0     0     0     0     0     0     0     0     0     0]\n",
            " [  449 11985    66 25205    66   449  4431   216  1545  5893     4  4579\n",
            "  11985  6768  9751    27   170   216  1830  4580     0     0     0     0\n",
            "      0     0     0     0     0     0     0     0     0     0     0     0\n",
            "      0     0     0     0     0     0     0     0     0     0]\n",
            " [   71   123    93    11   127     7    39     2   233   475     1  8542\n",
            "  11986  3598    13   754   165    25 19319     0     0     0     0     0\n",
            "      0     0     0     0     0     0     0     0     0     0     0     0\n",
            "      0     0     0     0     0     0     0     0     0     0]\n",
            " [   61   651     1   408    15    93    24   514    63   252   462    64\n",
            "    696   584     1   917   452   131     6    86    44    23    21   297\n",
            "      3   300   486     4    44    23    21   297     3   300   264   222\n",
            "    131     6    86    44    23    21   297     3   300   264]]\n"
          ]
        }
      ]
    },
    {
      "cell_type": "code",
      "source": [
        "print(\"X_train_padded: \", X_train_padded.shape)\n",
        "print(\"X_val_padded: \", X_val_padded.shape)\n",
        "print(\"X_test_padded: \", X_test_padded.shape)\n",
        "print(\"\")\n",
        "print(\"y_train_onehot: \", y_train_onehot.shape)\n",
        "print(\"y_val_onehot: \", y_val_onehot.shape)\n",
        "print(\"y_test_onehot: \", y_test_onehot.shape)"
      ],
      "metadata": {
        "colab": {
          "base_uri": "https://localhost:8080/"
        },
        "id": "yoG8hVnsHGnP",
        "outputId": "3e121b79-2c88-484b-d6da-9f5a25cab6a3"
      },
      "execution_count": 22,
      "outputs": [
        {
          "output_type": "stream",
          "name": "stdout",
          "text": [
            "X_train_padded:  (59744, 46)\n",
            "X_val_padded:  (14937, 46)\n",
            "X_test_padded:  (999, 46)\n",
            "\n",
            "y_train_onehot:  (59744, 3)\n",
            "y_val_onehot:  (14937, 3)\n",
            "y_test_onehot:  (999, 3)\n"
          ]
        }
      ]
    },
    {
      "cell_type": "markdown",
      "source": [
        "##  Model Training"
      ],
      "metadata": {
        "id": "PowV4KNqHMG1"
      }
    },
    {
      "cell_type": "code",
      "source": [
        "# import model\n",
        "from keras.models import Sequential\n",
        "from keras.layers import Embedding, Flatten, Dense\n",
        "\n",
        "# define the embedding layer\n",
        "vocab_size = 40000\n",
        "embedding_dim = 100\n",
        "max_length = maxlen\n",
        "model = Sequential()\n",
        "model.add(Embedding(input_dim=vocab_size, output_dim=embedding_dim, input_length=max_length))\n",
        "\n",
        "# flatten the embeddings\n",
        "model.add(Flatten())\n",
        "\n",
        "# ddd additional layers for classification\n",
        "model.add(Dense(128, activation='relu'))\n",
        "model.add(Dense(3, activation='softmax'))\n",
        "\n",
        "# compile the model\n",
        "model.compile(optimizer='adam', loss='categorical_crossentropy', metrics=['accuracy'])\n",
        "\n",
        "model.summary()"
      ],
      "metadata": {
        "colab": {
          "base_uri": "https://localhost:8080/"
        },
        "id": "9Q8ufSEXHOG8",
        "outputId": "7ab40fe1-f431-451e-97b5-15ce63a4b647"
      },
      "execution_count": 23,
      "outputs": [
        {
          "output_type": "stream",
          "name": "stdout",
          "text": [
            "Model: \"sequential\"\n",
            "_________________________________________________________________\n",
            " Layer (type)                Output Shape              Param #   \n",
            "=================================================================\n",
            " embedding (Embedding)       (None, 46, 100)           4000000   \n",
            "                                                                 \n",
            " flatten (Flatten)           (None, 4600)              0         \n",
            "                                                                 \n",
            " dense (Dense)               (None, 128)               588928    \n",
            "                                                                 \n",
            " dense_1 (Dense)             (None, 3)                 387       \n",
            "                                                                 \n",
            "=================================================================\n",
            "Total params: 4,589,315\n",
            "Trainable params: 4,589,315\n",
            "Non-trainable params: 0\n",
            "_________________________________________________________________\n"
          ]
        }
      ]
    },
    {
      "cell_type": "code",
      "source": [
        "# Train the model\n",
        "batch_size = 64\n",
        "epochs = 10\n",
        "\n",
        "model.fit(X_train_padded, y_train_onehot, validation_data=(X_val_padded, y_val_onehot), epochs=epochs, batch_size=batch_size)\n",
        "\n",
        "# Evaluate the model\n",
        "loss, accuracy = model.evaluate(X_test_padded, y_test_onehot, batch_size=batch_size)\n",
        "print(\"Test loss: \", loss)\n",
        "print(\"Test accuary: \", accuracy)"
      ],
      "metadata": {
        "colab": {
          "base_uri": "https://localhost:8080/"
        },
        "id": "k90P3z4pHh03",
        "outputId": "9c8f8e6a-4ac7-4434-807d-7b34627c6a0a"
      },
      "execution_count": 24,
      "outputs": [
        {
          "output_type": "stream",
          "name": "stdout",
          "text": [
            "Epoch 1/10\n",
            "934/934 [==============================] - 82s 86ms/step - loss: 0.6307 - accuracy: 0.7189 - val_loss: 0.3776 - val_accuracy: 0.8463\n",
            "Epoch 2/10\n",
            "934/934 [==============================] - 66s 71ms/step - loss: 0.1670 - accuracy: 0.9343 - val_loss: 0.3552 - val_accuracy: 0.8622\n",
            "Epoch 3/10\n",
            "934/934 [==============================] - 65s 70ms/step - loss: 0.0944 - accuracy: 0.9601 - val_loss: 0.4120 - val_accuracy: 0.8672\n",
            "Epoch 4/10\n",
            "934/934 [==============================] - 65s 70ms/step - loss: 0.0753 - accuracy: 0.9670 - val_loss: 0.4376 - val_accuracy: 0.8597\n",
            "Epoch 5/10\n",
            "934/934 [==============================] - 65s 70ms/step - loss: 0.0698 - accuracy: 0.9690 - val_loss: 0.5460 - val_accuracy: 0.8560\n",
            "Epoch 6/10\n",
            "934/934 [==============================] - 66s 71ms/step - loss: 0.0706 - accuracy: 0.9687 - val_loss: 0.6354 - val_accuracy: 0.8457\n",
            "Epoch 7/10\n",
            "934/934 [==============================] - 65s 70ms/step - loss: 0.0740 - accuracy: 0.9669 - val_loss: 0.6503 - val_accuracy: 0.8440\n",
            "Epoch 8/10\n",
            "934/934 [==============================] - 65s 70ms/step - loss: 0.0622 - accuracy: 0.9713 - val_loss: 0.6551 - val_accuracy: 0.8480\n",
            "Epoch 9/10\n",
            "934/934 [==============================] - 65s 70ms/step - loss: 0.0584 - accuracy: 0.9725 - val_loss: 0.7172 - val_accuracy: 0.8468\n",
            "Epoch 10/10\n",
            "934/934 [==============================] - 65s 70ms/step - loss: 0.0573 - accuracy: 0.9728 - val_loss: 0.7477 - val_accuracy: 0.8458\n",
            "16/16 [==============================] - 0s 4ms/step - loss: 0.1165 - accuracy: 0.9800\n",
            "Test loss:  0.11652030050754547\n",
            "Test accuary:  0.9799799919128418\n"
          ]
        }
      ]
    }
  ]
}